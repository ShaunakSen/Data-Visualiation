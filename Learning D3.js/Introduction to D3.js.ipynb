{
 "cells": [
  {
   "cell_type": "markdown",
   "metadata": {},
   "source": [
    "### Introduction to D3.js\n",
    "\n",
    "[Course link](https://scrimba.com/g/gd3js)\n",
    "\n",
    "\n",
    "#### Basic DOM selections and chaining\n",
    "\n",
    "d3 provides us 2 methods to SELECT DOM elemets\n",
    "\n",
    "1. d3.select()\n",
    "2. d3.selectAll()\n",
    "\n",
    "Both accept a css selector or name of DOM elem and returns selection of the elem\n",
    "\n",
    "Chaining:\n",
    "\n",
    "``` javascript\n",
    "\n",
    "// manupulate DOM elems by chaining:\n",
    "\n",
    "d3.select('h1')\n",
    "    .style('color', '#bd5e5e')\n",
    "    .attr('class', 'my-heading')\n",
    "    .text('Some updated text')\n",
    "```\n",
    "\n",
    "Appending DOM elems"
   ]
  }
 ],
 "metadata": {
  "kernelspec": {
   "display_name": "Python 3",
   "language": "python",
   "name": "python3"
  },
  "language_info": {
   "codemirror_mode": {
    "name": "ipython",
    "version": 3
   },
   "file_extension": ".py",
   "mimetype": "text/x-python",
   "name": "python",
   "nbconvert_exporter": "python",
   "pygments_lexer": "ipython3",
   "version": "3.6.3"
  }
 },
 "nbformat": 4,
 "nbformat_minor": 2
}
