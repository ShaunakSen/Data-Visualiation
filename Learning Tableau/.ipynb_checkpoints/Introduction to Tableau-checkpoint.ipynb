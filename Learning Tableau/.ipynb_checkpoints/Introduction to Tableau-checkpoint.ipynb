{
 "cells": [
  {
   "cell_type": "markdown",
   "metadata": {},
   "source": [
    "### Tutorial 1 - Tableau Offocial Website\n",
    "\n",
    "[Video URL](https://www.tableau.com/learn/tutorials/on-demand/getting-started?product=tableau_desktop+tableau_prep&version=tableau_desktop_2018_2+tableau_prep_2018_2_1&topic=getting_started)\n",
    "\n",
    "In this video we will be using the **Global Supuerstore Orders** dataset \n",
    "\n",
    "This dataset contains transactions of customers purchasing specific products\n",
    "\n"
   ]
  },
  {
   "cell_type": "markdown",
   "metadata": {},
   "source": [
    "### Tutorial 2 - Freecodecamp\n",
    "\n",
    "[video link](https://www.youtube.com/watch?v=TPMlZxRRaBQ)\n",
    "\n",
    "Typical ways in which Tableau can be used in a data science workflow:\n",
    "\n",
    "- Data Exploration (EDA)\n",
    "- Final Reporting/Presentation\n",
    "\n",
    "\n",
    "We use the titanic dataset for the project\n",
    "\n",
    "Now once we load the dataste, we can see that Age and Survived are both measures. But we want to see who survived or not based on age. So age needs to be a dimension. we do this by binning age\n",
    "\n",
    "![](./diag1.png)\n",
    "\n",
    "```\n",
    "\n",
    "Columns: Age (bin)\n",
    "\n",
    "Rows: SUM(no of records), SUM(no of records) as a % of total (right click and quick calculations)\n",
    "\n",
    "Fiters: Age (bin) - to get rid of NULL values\n",
    "\n",
    "Labels : SUM(no of records), SUM(no of records)\n",
    "\n",
    "```"
   ]
  },
  {
   "cell_type": "markdown",
   "metadata": {},
   "source": [
    "Now we want to analyze the `survived` column. tableau automatically converted it into a measure. But it is really a categorical column. Right click -> convert to dimension\n",
    "\n",
    "We want to see the survival rate according to the Age by color.We want to apply it to both the charts. Drag survived to color \n",
    "\n",
    "#### Creating a custom measure\n",
    "\n",
    "```\n",
    "IF [Age] <= 10 THEN '0-10'\n",
    "ELSEIF [Age] > 10 AND  [Age] <= 20 THEN '11-20'\n",
    "ELSEIF [Age] > 20 AND  [Age] <= 30 THEN '21-30'\n",
    "ELSEIF [Age] > 30 AND  [Age] <= 40 THEN '31-40'\n",
    "ELSE '40+'\n",
    "END\n",
    "```\n",
    "\n",
    "#### Create a dashboard\n",
    "\n",
    "![](diag2.png)"
   ]
  },
  {
   "cell_type": "markdown",
   "metadata": {},
   "source": [
    "### Tableau Training For Beginners - SimliLearn\n",
    "\n",
    "[link](https://www.youtube.com/watch?v=fO7g0pnWaRA)\n",
    "\n",
    "#### Excel-like Pivot Table\n",
    "\n",
    "![](./diag3.png)\n",
    "\n",
    "#### Basics\n",
    "\n",
    "Sheet - one viz at a time\n",
    "\n",
    "Story - Sequence of viz that tell a story\n",
    "\n",
    "Dimension - not aggregated\n",
    "Measure - aggregated (default is SUM)\n",
    "\n",
    "Blue is associated with dimensions and green  with measures\n",
    "\n",
    "**More formally, green signifies continuous variables and blue signifies discrete vars**\n",
    "\n",
    "For eg:  Plot bw sales and qty\n",
    "\n",
    "When we simply drag and drop sales and qty it treats it as measure and does SUM(sales), SUM(qty). So we get a single pt.\n",
    "\n",
    "But basically we want to see the sum of sales foreach qty\n",
    "\n",
    "So Qty -> Measure\n",
    "\n",
    "Now there are 2 options - discrete , continuous. It is currently greean, that means it is continous so we are getting a line chart. If we change it to discrete the chart changes to a bar chart\n",
    "\n",
    "![](./diag4.png)"
   ]
  },
  {
   "cell_type": "markdown",
   "metadata": {},
   "source": [
    "#### Chart 1 - Avg sales by region\n",
    "\n",
    "\n",
    "If we want to label the sales but we only want to show the max and min value we can do that - there is the option in labels\n",
    "\n",
    "In marks there is a dropdown which is set to AUtomatic generally. we can change this to change the type of the chart\n",
    "\n",
    "![](./diag5.png)"
   ]
  },
  {
   "cell_type": "markdown",
   "metadata": {},
   "source": [
    "#### Chart 2 \n",
    "\n",
    "We will build a scatterplot. In a scatterplot, we will have 2 axes which are both measures\n",
    "\n",
    "We want to plot Sales vs Discount at an Order ID level\n",
    "\n",
    "If we simply drag and drop Sales and Discount we get one pt - SUM(sales), SUM(discount)\n",
    "\n",
    "This is where detail comes in - **Detail specifies the level of detail for our visualization**\n",
    "\n",
    "Drag Order ID to details\n",
    "\n",
    "We can color by category\n",
    "\n",
    "Tableau has a cool highlight option - we click on the **highlight selected items** option and on clicking any of the data point, it will highlight all points for that category\n",
    "\n",
    "![](./diag6.png)\n",
    "\n"
   ]
  },
  {
   "cell_type": "markdown",
   "metadata": {},
   "source": [
    "#### Char 3 - Profit by Category - Sub Category\n",
    "\n",
    "We want both category and sub cat in our cols. It is important that we place them in that order "
   ]
  }
 ],
 "metadata": {
  "kernelspec": {
   "display_name": "Python 3",
   "language": "python",
   "name": "python3"
  },
  "language_info": {
   "codemirror_mode": {
    "name": "ipython",
    "version": 3
   },
   "file_extension": ".py",
   "mimetype": "text/x-python",
   "name": "python",
   "nbconvert_exporter": "python",
   "pygments_lexer": "ipython3",
   "version": "3.7.4"
  },
  "toc": {
   "base_numbering": 1,
   "nav_menu": {},
   "number_sections": true,
   "sideBar": true,
   "skip_h1_title": false,
   "title_cell": "Table of Contents",
   "title_sidebar": "Contents",
   "toc_cell": false,
   "toc_position": {},
   "toc_section_display": true,
   "toc_window_display": false
  }
 },
 "nbformat": 4,
 "nbformat_minor": 2
}
