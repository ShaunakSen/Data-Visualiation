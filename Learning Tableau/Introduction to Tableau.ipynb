{
 "cells": [
  {
   "cell_type": "markdown",
   "metadata": {},
   "source": [
    "### Tutorial 1 - Tableau Offocial Website\n",
    "\n",
    "[Video URL](https://www.tableau.com/learn/tutorials/on-demand/getting-started?product=tableau_desktop+tableau_prep&version=tableau_desktop_2018_2+tableau_prep_2018_2_1&topic=getting_started)\n",
    "\n",
    "In this video we will be using the **Global Supuerstore Orders** dataset \n",
    "\n",
    "This dataset contains transactions of customers purchasing specific products\n",
    "\n"
   ]
  },
  {
   "cell_type": "markdown",
   "metadata": {},
   "source": [
    "### Tutorial 2 - Freecodecamp\n",
    "\n",
    "[video link](https://www.youtube.com/watch?v=TPMlZxRRaBQ)\n",
    "\n",
    "Typical ways in which Tableau can be used in a data science workflow:\n",
    "\n",
    "- Data Exploration (EDA)\n",
    "- Final Reporting/Presentation\n",
    "\n",
    "\n",
    "We use the titanic dataset for the project\n",
    "\n",
    "Now once we load the dataste, we can see that Age and Survived are both measures. But we want to see who survived or not based on age. So age needs to be a dimension. we do this by binning age\n",
    "\n",
    "![](./diag1.png)\n",
    "\n",
    "```\n",
    "\n",
    "Columns: Age (bin)\n",
    "\n",
    "Rows: SUM(no of records), SUM(no of records) as a % of total (right click and quick calculations)\n",
    "\n",
    "Fiters: Age (bin) - to get rid of NULL values\n",
    "\n",
    "Labels : SUM(no of records), SUM(no of records)\n",
    "\n",
    "```"
   ]
  },
  {
   "cell_type": "code",
   "execution_count": null,
   "metadata": {},
   "outputs": [],
   "source": []
  }
 ],
 "metadata": {
  "kernelspec": {
   "display_name": "Python 3",
   "language": "python",
   "name": "python3"
  },
  "language_info": {
   "codemirror_mode": {
    "name": "ipython",
    "version": 3
   },
   "file_extension": ".py",
   "mimetype": "text/x-python",
   "name": "python",
   "nbconvert_exporter": "python",
   "pygments_lexer": "ipython3",
   "version": "3.7.4"
  },
  "toc": {
   "base_numbering": 1,
   "nav_menu": {},
   "number_sections": true,
   "sideBar": true,
   "skip_h1_title": false,
   "title_cell": "Table of Contents",
   "title_sidebar": "Contents",
   "toc_cell": false,
   "toc_position": {},
   "toc_section_display": true,
   "toc_window_display": false
  }
 },
 "nbformat": 4,
 "nbformat_minor": 2
}
