{
 "cells": [
  {
   "cell_type": "markdown",
   "metadata": {},
   "source": [
    "### Getting Started\n",
    "\n",
    "[Video URL](https://www.tableau.com/learn/tutorials/on-demand/getting-started?product=tableau_desktop+tableau_prep&version=tableau_desktop_2018_2+tableau_prep_2018_2_1&topic=getting_started)\n",
    "\n",
    "In this video we will be using the **Global Supuerstore Orders** dataset \n",
    "\n",
    "This dataset contains transactions of customers purchasing specific products\n",
    "\n"
   ]
  }
 ],
 "metadata": {
  "kernelspec": {
   "display_name": "Python 2",
   "language": "python",
   "name": "python2"
  },
  "language_info": {
   "codemirror_mode": {
    "name": "ipython",
    "version": 2
   },
   "file_extension": ".py",
   "mimetype": "text/x-python",
   "name": "python",
   "nbconvert_exporter": "python",
   "pygments_lexer": "ipython2",
   "version": "2.7.14"
  }
 },
 "nbformat": 4,
 "nbformat_minor": 2
}
